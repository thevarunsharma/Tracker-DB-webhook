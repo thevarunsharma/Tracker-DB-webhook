{
 "cells": [
  {
   "cell_type": "code",
   "execution_count": 1,
   "metadata": {},
   "outputs": [],
   "source": [
    "import keras"
   ]
  },
  {
   "cell_type": "code",
   "execution_count": 2,
   "metadata": {},
   "outputs": [],
   "source": [
    "from keras.datasets import mnist\n",
    "from keras.models import Model\n",
    "import keras.layers as L\n",
    "from keras.callbacks import RemoteMonitor"
   ]
  },
  {
   "cell_type": "code",
   "execution_count": 40,
   "metadata": {},
   "outputs": [],
   "source": [
    "(x_train, y_train), (x_test, y_test) = mnist.load_data()"
   ]
  },
  {
   "cell_type": "code",
   "execution_count": 41,
   "metadata": {},
   "outputs": [
    {
     "data": {
      "text/plain": [
       "((60000, 28, 28), (60000,), (10000, 28, 28), (10000,))"
      ]
     },
     "execution_count": 41,
     "metadata": {},
     "output_type": "execute_result"
    }
   ],
   "source": [
    "x_train.shape, y_train.shape, x_test.shape, y_test.shape"
   ]
  },
  {
   "cell_type": "code",
   "execution_count": 42,
   "metadata": {},
   "outputs": [],
   "source": [
    "from sklearn.preprocessing import OneHotEncoder\n",
    "enc = OneHotEncoder(10)"
   ]
  },
  {
   "cell_type": "code",
   "execution_count": 43,
   "metadata": {},
   "outputs": [],
   "source": [
    "y_train.shape = (-1, 1)\n",
    "y_test.shape = (-1, 1)"
   ]
  },
  {
   "cell_type": "code",
   "execution_count": 44,
   "metadata": {},
   "outputs": [
    {
     "data": {
      "text/plain": [
       "((60000, 10), (10000, 10))"
      ]
     },
     "execution_count": 44,
     "metadata": {},
     "output_type": "execute_result"
    }
   ],
   "source": [
    "y_train = enc.fit_transform(y_train)\n",
    "y_test = enc.transform(y_test)\n",
    "y_train.shape, y_test.shape"
   ]
  },
  {
   "cell_type": "code",
   "execution_count": 7,
   "metadata": {},
   "outputs": [],
   "source": [
    "def make_model():\n",
    "    X_inp = L.Input([28, 28])\n",
    "    X = L.Flatten()(X_inp)\n",
    "    X = L.Dense(512, activation='relu')(X)\n",
    "    X = L.Dense(256, activation='relu')(X)\n",
    "    X = L.Dense(64, activation='relu')(X)\n",
    "    X = L.Dense(10, activation='sigmoid')(X)\n",
    "    model = Model(inputs=X_inp, outputs=X)\n",
    "    return model"
   ]
  },
  {
   "cell_type": "code",
   "execution_count": 8,
   "metadata": {},
   "outputs": [
    {
     "name": "stdout",
     "output_type": "stream",
     "text": [
      "Model: \"model_1\"\n",
      "_________________________________________________________________\n",
      "Layer (type)                 Output Shape              Param #   \n",
      "=================================================================\n",
      "input_1 (InputLayer)         (None, 28, 28)            0         \n",
      "_________________________________________________________________\n",
      "flatten_1 (Flatten)          (None, 784)               0         \n",
      "_________________________________________________________________\n",
      "dense_1 (Dense)              (None, 512)               401920    \n",
      "_________________________________________________________________\n",
      "dense_2 (Dense)              (None, 256)               131328    \n",
      "_________________________________________________________________\n",
      "dense_3 (Dense)              (None, 64)                16448     \n",
      "_________________________________________________________________\n",
      "dense_4 (Dense)              (None, 10)                650       \n",
      "=================================================================\n",
      "Total params: 550,346\n",
      "Trainable params: 550,346\n",
      "Non-trainable params: 0\n",
      "_________________________________________________________________\n"
     ]
    }
   ],
   "source": [
    "model = make_model()\n",
    "model.summary()"
   ]
  },
  {
   "cell_type": "code",
   "execution_count": 46,
   "metadata": {},
   "outputs": [],
   "source": [
    "model.compile('adam', loss='categorical_crossentropy', metrics=['acc'])"
   ]
  },
  {
   "cell_type": "code",
   "execution_count": 47,
   "metadata": {},
   "outputs": [
    {
     "name": "stdout",
     "output_type": "stream",
     "text": [
      "Train on 60000 samples, validate on 10000 samples\n",
      "Epoch 1/1\n",
      "60000/60000 [==============================] - 21s 353us/step - loss: 8.9134 - acc: 0.0988 - val_loss: 9.0495 - val_acc: 0.0980\n"
     ]
    },
    {
     "data": {
      "text/plain": [
       "<keras.callbacks.callbacks.History at 0x7fa3ed6d0898>"
      ]
     },
     "execution_count": 47,
     "metadata": {},
     "output_type": "execute_result"
    }
   ],
   "source": [
    "model.fit(x_train, y_train, validation_data=(x_test, y_test))"
   ]
  },
  {
   "cell_type": "code",
   "execution_count": 58,
   "metadata": {},
   "outputs": [],
   "source": [
    "monitor = RemoteMonitor(root=\"http://localhost:5000\", path=\"/\", \n",
    "                        headers={\"Content-type\":\"application/json\"} ,send_as_json=True)"
   ]
  },
  {
   "cell_type": "code",
   "execution_count": 61,
   "metadata": {},
   "outputs": [
    {
     "name": "stdout",
     "output_type": "stream",
     "text": [
      "Epoch 1/1\n",
      "10000/10000 [==============================] - 3s 310us/step - loss: 9.0495 - acc: 0.0980\n"
     ]
    },
    {
     "data": {
      "text/plain": [
       "<keras.callbacks.callbacks.History at 0x7fa3ed4c6eb8>"
      ]
     },
     "execution_count": 61,
     "metadata": {},
     "output_type": "execute_result"
    }
   ],
   "source": [
    "model.fit(x_test, y_test, callbacks=[monitor])"
   ]
  },
  {
   "cell_type": "code",
   "execution_count": 87,
   "metadata": {},
   "outputs": [],
   "source": [
    "import requests, json"
   ]
  },
  {
   "cell_type": "code",
   "execution_count": 111,
   "metadata": {},
   "outputs": [],
   "source": [
    "class ModelTracker(keras.callbacks.Callback):\n",
    "    def __init__(self, model_key):\n",
    "        self.__url = \"http://localhost:5000/\"\n",
    "        self.__json_header = {'Content-type':'application/json'}\n",
    "        self.model_key = model_key\n",
    "        req = requests.post(self.__url + \"auth\", json={'model_key':model_key}, \n",
    "                      headers=self.__json_header)\n",
    "        if req.status_code != 200:\n",
    "            raise Exception(\"Invalid model key\")\n",
    "            return\n",
    "        super().__init__()\n",
    "        \n",
    "    def on_train_begin(self, logs={}):\n",
    "        req = requests.post(self.__url + \"start\", json=self.params, \n",
    "                            headers=self.__json_header)\n",
    "        self.training_id = req.json()['training_id'] \n",
    "    \n",
    "    def on_train_end(self, logs={}):\n",
    "        requests.post(self.__url + \"end\", json={'training_id' : self.training_id},\n",
    "                     headers=self.__json_header)\n",
    "        \n",
    "    def on_epoch_begin(self, epoch, logs={}):\n",
    "        logs['training_id'] = self.training_id\n",
    "        logs['epoch'] = epoch\n",
    "        requests.post(self.__url + \"epochbegin\", data=json.dumps(str(logs)), headers=self.__json_header)\n",
    "    \n",
    "    def on_epoch_end(self, epoch, logs={}):\n",
    "        logs['training_id'] = self.training_id\n",
    "        logs['epoch'] = epoch\n",
    "        requests.post(self.__url + \"epochend\", data=json.dumps(str(logs)), headers=self.__json_header)\n",
    "        "
   ]
  },
  {
   "cell_type": "code",
   "execution_count": 112,
   "metadata": {},
   "outputs": [],
   "source": [
    "track = ModelTracker(\"varun\")"
   ]
  },
  {
   "cell_type": "code",
   "execution_count": 113,
   "metadata": {},
   "outputs": [
    {
     "name": "stdout",
     "output_type": "stream",
     "text": [
      "Train on 10000 samples, validate on 10000 samples\n",
      "Epoch 1/3\n",
      "10000/10000 [==============================] - 4s 411us/step - loss: 9.0495 - acc: 0.0980 - val_loss: 9.0495 - val_acc: 0.0980\n",
      "Epoch 2/3\n",
      "10000/10000 [==============================] - 4s 403us/step - loss: 9.0495 - acc: 0.0980 - val_loss: 9.0495 - val_acc: 0.0980\n",
      "Epoch 3/3\n",
      "10000/10000 [==============================] - 4s 408us/step - loss: 9.0495 - acc: 0.0980 - val_loss: 9.0495 - val_acc: 0.0980\n"
     ]
    },
    {
     "data": {
      "text/plain": [
       "<keras.callbacks.callbacks.History at 0x7fa3ed49c5c0>"
      ]
     },
     "execution_count": 113,
     "metadata": {},
     "output_type": "execute_result"
    }
   ],
   "source": [
    "model.fit(x_test, y_test, validation_data=(x_test, y_test), callbacks=[track], epochs=3)"
   ]
  },
  {
   "cell_type": "code",
   "execution_count": 114,
   "metadata": {},
   "outputs": [
    {
     "data": {
      "text/plain": [
       "{'batch_size': 32,\n",
       " 'epochs': 3,\n",
       " 'steps': None,\n",
       " 'samples': 10000,\n",
       " 'verbose': 1,\n",
       " 'do_validation': True,\n",
       " 'metrics': ['loss', 'acc', 'val_loss', 'val_acc']}"
      ]
     },
     "execution_count": 114,
     "metadata": {},
     "output_type": "execute_result"
    }
   ],
   "source": [
    "track.params"
   ]
  }
 ],
 "metadata": {
  "kernelspec": {
   "display_name": "Python 3",
   "language": "python",
   "name": "python3"
  },
  "language_info": {
   "codemirror_mode": {
    "name": "ipython",
    "version": 3
   },
   "file_extension": ".py",
   "mimetype": "text/x-python",
   "name": "python",
   "nbconvert_exporter": "python",
   "pygments_lexer": "ipython3",
   "version": "3.6.9"
  }
 },
 "nbformat": 4,
 "nbformat_minor": 2
}
